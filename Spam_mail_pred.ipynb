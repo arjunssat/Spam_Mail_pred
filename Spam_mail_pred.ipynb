{
 "cells": [
  {
   "cell_type": "code",
   "execution_count": 112,
   "id": "a933febd",
   "metadata": {},
   "outputs": [
    {
     "data": {
      "text/html": [
       "<div>\n",
       "<style scoped>\n",
       "    .dataframe tbody tr th:only-of-type {\n",
       "        vertical-align: middle;\n",
       "    }\n",
       "\n",
       "    .dataframe tbody tr th {\n",
       "        vertical-align: top;\n",
       "    }\n",
       "\n",
       "    .dataframe thead th {\n",
       "        text-align: right;\n",
       "    }\n",
       "</style>\n",
       "<table border=\"1\" class=\"dataframe\">\n",
       "  <thead>\n",
       "    <tr style=\"text-align: right;\">\n",
       "      <th></th>\n",
       "      <th>Category</th>\n",
       "      <th>Message</th>\n",
       "    </tr>\n",
       "  </thead>\n",
       "  <tbody>\n",
       "    <tr>\n",
       "      <th>0</th>\n",
       "      <td>ham</td>\n",
       "      <td>Go until jurong point, crazy.. Available only ...</td>\n",
       "    </tr>\n",
       "    <tr>\n",
       "      <th>1</th>\n",
       "      <td>ham</td>\n",
       "      <td>Ok lar... Joking wif u oni...</td>\n",
       "    </tr>\n",
       "    <tr>\n",
       "      <th>2</th>\n",
       "      <td>spam</td>\n",
       "      <td>Free entry in 2 a wkly comp to win FA Cup fina...</td>\n",
       "    </tr>\n",
       "    <tr>\n",
       "      <th>3</th>\n",
       "      <td>ham</td>\n",
       "      <td>U dun say so early hor... U c already then say...</td>\n",
       "    </tr>\n",
       "    <tr>\n",
       "      <th>4</th>\n",
       "      <td>ham</td>\n",
       "      <td>Nah I don't think he goes to usf, he lives aro...</td>\n",
       "    </tr>\n",
       "  </tbody>\n",
       "</table>\n",
       "</div>"
      ],
      "text/plain": [
       "  Category                                            Message\n",
       "0      ham  Go until jurong point, crazy.. Available only ...\n",
       "1      ham                      Ok lar... Joking wif u oni...\n",
       "2     spam  Free entry in 2 a wkly comp to win FA Cup fina...\n",
       "3      ham  U dun say so early hor... U c already then say...\n",
       "4      ham  Nah I don't think he goes to usf, he lives aro..."
      ]
     },
     "execution_count": 112,
     "metadata": {},
     "output_type": "execute_result"
    }
   ],
   "source": [
    "import numpy as np\n",
    "import pandas as pd\n",
    "import matplotlib.pyplot as plt\n",
    "%matplotlib inline\n",
    "import seaborn as sns\n",
    "from sklearn.model_selection import train_test_split\n",
    "from sklearn.preprocessing import StandardScaler\n",
    "from sklearn.neighbors import KNeighborsClassifier\n",
    "from sklearn.naive_bayes import GaussianNB,BernoulliNB,ComplementNB\n",
    "from sklearn.svm import SVC\n",
    "from sklearn.metrics import classification_report,accuracy_score,ConfusionMatrixDisplay,confusion_matrix\n",
    "from sklearn.feature_extraction.text import TfidfVectorizer\n",
    "from sklearn.linear_model import LogisticRegression\n",
    "import warnings\n",
    "warnings.filterwarnings('ignore')\n",
    "df=pd.read_csv('D:/Data Analysis/Files/spammail_data.csv')\n",
    "pd.set_option('display.max_column',None)\n",
    "df.head()"
   ]
  },
  {
   "cell_type": "code",
   "execution_count": 113,
   "id": "bf557a8b",
   "metadata": {},
   "outputs": [
    {
     "data": {
      "text/plain": [
       "(5572, 2)"
      ]
     },
     "execution_count": 113,
     "metadata": {},
     "output_type": "execute_result"
    }
   ],
   "source": [
    "df.shape"
   ]
  },
  {
   "cell_type": "code",
   "execution_count": 114,
   "id": "56a9ccfe",
   "metadata": {},
   "outputs": [
    {
     "data": {
      "text/plain": [
       "11144"
      ]
     },
     "execution_count": 114,
     "metadata": {},
     "output_type": "execute_result"
    }
   ],
   "source": [
    "df.size"
   ]
  },
  {
   "cell_type": "code",
   "execution_count": 115,
   "id": "f76d477e",
   "metadata": {},
   "outputs": [
    {
     "data": {
      "text/html": [
       "<div>\n",
       "<style scoped>\n",
       "    .dataframe tbody tr th:only-of-type {\n",
       "        vertical-align: middle;\n",
       "    }\n",
       "\n",
       "    .dataframe tbody tr th {\n",
       "        vertical-align: top;\n",
       "    }\n",
       "\n",
       "    .dataframe thead th {\n",
       "        text-align: right;\n",
       "    }\n",
       "</style>\n",
       "<table border=\"1\" class=\"dataframe\">\n",
       "  <thead>\n",
       "    <tr style=\"text-align: right;\">\n",
       "      <th></th>\n",
       "      <th>count</th>\n",
       "      <th>unique</th>\n",
       "      <th>top</th>\n",
       "      <th>freq</th>\n",
       "    </tr>\n",
       "  </thead>\n",
       "  <tbody>\n",
       "    <tr>\n",
       "      <th>Category</th>\n",
       "      <td>5572</td>\n",
       "      <td>2</td>\n",
       "      <td>ham</td>\n",
       "      <td>4825</td>\n",
       "    </tr>\n",
       "    <tr>\n",
       "      <th>Message</th>\n",
       "      <td>5572</td>\n",
       "      <td>5157</td>\n",
       "      <td>Sorry, I'll call later</td>\n",
       "      <td>30</td>\n",
       "    </tr>\n",
       "  </tbody>\n",
       "</table>\n",
       "</div>"
      ],
      "text/plain": [
       "         count unique                     top  freq\n",
       "Category  5572      2                     ham  4825\n",
       "Message   5572   5157  Sorry, I'll call later    30"
      ]
     },
     "execution_count": 115,
     "metadata": {},
     "output_type": "execute_result"
    }
   ],
   "source": [
    "df.describe().T"
   ]
  },
  {
   "cell_type": "code",
   "execution_count": 116,
   "id": "a0d71bf0",
   "metadata": {},
   "outputs": [
    {
     "data": {
      "text/plain": [
       "Category    0\n",
       "Message     0\n",
       "dtype: int64"
      ]
     },
     "execution_count": 116,
     "metadata": {},
     "output_type": "execute_result"
    }
   ],
   "source": [
    "df.isna().sum()"
   ]
  },
  {
   "cell_type": "code",
   "execution_count": 117,
   "id": "2b016876",
   "metadata": {},
   "outputs": [],
   "source": [
    "df=df.where((pd.notnull(df)),'')"
   ]
  },
  {
   "cell_type": "code",
   "execution_count": 118,
   "id": "52dd4d5c",
   "metadata": {},
   "outputs": [],
   "source": [
    "#Label Encoding spam=0 and ham=1\n",
    "df.loc[df['Category']=='spam','Category',]=0\n",
    "df.loc[df['Category']=='ham','Category',]=1"
   ]
  },
  {
   "cell_type": "code",
   "execution_count": 119,
   "id": "ffe7a0c1",
   "metadata": {},
   "outputs": [
    {
     "data": {
      "text/plain": [
       "array([1, 1, 0, ..., 1, 1, 1], dtype=object)"
      ]
     },
     "execution_count": 119,
     "metadata": {},
     "output_type": "execute_result"
    }
   ],
   "source": [
    "x=df.iloc[:,-1].values\n",
    "y=df.iloc[:,0].values\n",
    "y"
   ]
  },
  {
   "cell_type": "code",
   "execution_count": 120,
   "id": "16e4a3d3",
   "metadata": {},
   "outputs": [
    {
     "name": "stdout",
     "output_type": "stream",
     "text": [
      "(5572,) (4457,) (1115,)\n"
     ]
    }
   ],
   "source": [
    "x_train,x_test,y_train,y_test=train_test_split(x,y,test_size=0.20,random_state=1)\n",
    "print(x.shape,x_train.shape,x_test.shape)"
   ]
  },
  {
   "cell_type": "markdown",
   "id": "47619c81",
   "metadata": {},
   "source": [
    "# Feature Extraction"
   ]
  },
  {
   "cell_type": "code",
   "execution_count": 121,
   "id": "c1fc1c30",
   "metadata": {},
   "outputs": [],
   "source": [
    "#Transforming text data into feature vectors \n",
    "fea_ext=TfidfVectorizer(min_df=1,stop_words='english',lowercase='True')\n",
    "x_train_fea=fea_ext.fit_transform(x_train)\n",
    "x_test_fea=fea_ext.transform(x_test)\n",
    "y_train=y_train.astype('int')\n",
    "y_test=y_test.astype('int')"
   ]
  },
  {
   "cell_type": "code",
   "execution_count": 122,
   "id": "82c380c1",
   "metadata": {},
   "outputs": [
    {
     "name": "stdout",
     "output_type": "stream",
     "text": [
      "  (0, 4346)\t0.3238008504874723\n",
      "  (0, 2353)\t0.2545072203817634\n",
      "  (0, 6695)\t0.3616065178053154\n",
      "  (0, 5895)\t0.415102954745324\n",
      "  (0, 2719)\t0.299459437576315\n",
      "  (0, 3822)\t0.37729728742748087\n",
      "  (0, 3789)\t0.4750235197588447\n",
      "  (0, 3321)\t0.2638802854739516\n",
      "  (1, 4343)\t0.6555659308129219\n",
      "  (1, 1858)\t0.5163195438969705\n",
      "  (1, 3365)\t0.5510421389942982\n",
      "  (2, 4267)\t0.531599749449541\n",
      "  (2, 6215)\t0.43979370278404856\n",
      "  (2, 6597)\t0.40097414833733686\n",
      "  (2, 5672)\t0.32606636481997364\n",
      "  (2, 3025)\t0.3502912545366897\n",
      "  (2, 3185)\t0.3663054742561573\n",
      "  (3, 4447)\t0.18080236341909536\n",
      "  (3, 3084)\t0.14346439189216004\n",
      "  (3, 2877)\t0.30030357190007717\n",
      "  (3, 5515)\t0.16439483489485024\n",
      "  (3, 6922)\t0.13381964389308706\n",
      "  (3, 7080)\t0.19700844583868773\n",
      "  (3, 5535)\t0.30030357190007717\n",
      "  (3, 7398)\t0.19877707762085306\n",
      "  :\t:\n",
      "  (4454, 397)\t0.31848634658760416\n",
      "  (4454, 4027)\t0.2561192223695296\n",
      "  (4454, 6409)\t0.2511086901671169\n",
      "  (4454, 7382)\t0.23350338191116915\n",
      "  (4454, 4578)\t0.28626353932821713\n",
      "  (4455, 6600)\t0.3164025961524856\n",
      "  (4455, 2805)\t0.3016723549044074\n",
      "  (4455, 5425)\t0.2831144456705363\n",
      "  (4455, 4948)\t0.291221082414565\n",
      "  (4455, 365)\t0.2708906633533937\n",
      "  (4455, 860)\t0.2544703850602943\n",
      "  (4455, 5684)\t0.2831144456705363\n",
      "  (4455, 3721)\t0.22464478145066644\n",
      "  (4455, 4284)\t0.18993177207181944\n",
      "  (4455, 4473)\t0.18061588089155375\n",
      "  (4455, 313)\t0.20494254942428108\n",
      "  (4455, 5821)\t0.2292888713223737\n",
      "  (4455, 260)\t0.23097890836739493\n",
      "  (4455, 2124)\t0.2386556082002209\n",
      "  (4455, 6681)\t0.1644718719525843\n",
      "  (4455, 6546)\t0.1617993994273865\n",
      "  (4455, 3759)\t0.13547655899979386\n",
      "  (4455, 5515)\t0.17320790500652877\n",
      "  (4456, 6025)\t0.6984641956538138\n",
      "  (4456, 1703)\t0.7156450009534552\n"
     ]
    }
   ],
   "source": [
    "print(x_train_fea)"
   ]
  },
  {
   "cell_type": "code",
   "execution_count": 123,
   "id": "b83e541c",
   "metadata": {},
   "outputs": [
    {
     "data": {
      "text/plain": [
       "LogisticRegression()"
      ]
     },
     "execution_count": 123,
     "metadata": {},
     "output_type": "execute_result"
    }
   ],
   "source": [
    "model=LogisticRegression()\n",
    "model.fit(x_train_fea,y_train)"
   ]
  },
  {
   "cell_type": "code",
   "execution_count": 124,
   "id": "da9bbfdf",
   "metadata": {},
   "outputs": [
    {
     "name": "stdout",
     "output_type": "stream",
     "text": [
      "0.9681400044873233\n"
     ]
    }
   ],
   "source": [
    "# Evaluating the trained model\n",
    "pred_train=model.predict(x_train_fea)\n",
    "acc_train=accuracy_score(y_train,pred_train)\n",
    "print(acc_train)"
   ]
  },
  {
   "cell_type": "code",
   "execution_count": 125,
   "id": "2660e6bd",
   "metadata": {},
   "outputs": [
    {
     "name": "stdout",
     "output_type": "stream",
     "text": [
      "0.9704035874439462\n"
     ]
    }
   ],
   "source": [
    "pred_test=model.predict(x_test_fea)\n",
    "acc_test=accuracy_score(y_test,pred_test)\n",
    "print(acc_test)"
   ]
  },
  {
   "cell_type": "markdown",
   "id": "fb7e0584",
   "metadata": {},
   "source": [
    "# Building a predictive system"
   ]
  },
  {
   "cell_type": "code",
   "execution_count": 126,
   "id": "fe0efd15",
   "metadata": {},
   "outputs": [
    {
     "name": "stdout",
     "output_type": "stream",
     "text": [
      "[1]\n",
      "Ham Mail\n"
     ]
    }
   ],
   "source": [
    "input_mail=['So ü pay first lar... Then when is da stock comin...']\n",
    "input_data_fea=fea_ext.transform(input_mail)\n",
    "pred1=model.predict(input_data_fea)\n",
    "print(pred1)\n",
    "\n",
    "if(pred1)==1:\n",
    "    print('Ham Mail')\n",
    "else:\n",
    "    print(\"Spam\")"
   ]
  }
 ],
 "metadata": {
  "kernelspec": {
   "display_name": "Python 3 (ipykernel)",
   "language": "python",
   "name": "python3"
  },
  "language_info": {
   "codemirror_mode": {
    "name": "ipython",
    "version": 3
   },
   "file_extension": ".py",
   "mimetype": "text/x-python",
   "name": "python",
   "nbconvert_exporter": "python",
   "pygments_lexer": "ipython3",
   "version": "3.9.13"
  }
 },
 "nbformat": 4,
 "nbformat_minor": 5
}
